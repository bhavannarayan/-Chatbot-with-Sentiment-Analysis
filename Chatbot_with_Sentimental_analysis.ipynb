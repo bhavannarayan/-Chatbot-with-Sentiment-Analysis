{
  "cells": [
    {
      "cell_type": "markdown",
      "metadata": {
        "id": "view-in-github",
        "colab_type": "text"
      },
      "source": [
        "<a href=\"https://colab.research.google.com/github/Shaim1010/ChatBot-with-SentimentalAnalysis/blob/main/Chatbot_with_Sentimental_analysis.ipynb\" target=\"_parent\"><img src=\"https://colab.research.google.com/assets/colab-badge.svg\" alt=\"Open In Colab\"/></a>"
      ]
    },
    {
      "cell_type": "code",
      "execution_count": 2,
      "metadata": {
        "id": "jZAOyQIco-go"
      },
      "outputs": [],
      "source": [
        "import random\n",
        "from textblob import TextBlob"
      ]
    },
    {
      "cell_type": "code",
      "execution_count": 7,
      "metadata": {
        "colab": {
          "base_uri": "https://localhost:8080/"
        },
        "id": "sAvoCvdbpMLh",
        "outputId": "2314488e-11bf-429f-d6df-c608ae0a7495"
      },
      "outputs": [
        {
          "output_type": "stream",
          "name": "stdout",
          "text": [
            "Hello insan, what's your name?!🤔\n",
            "shivam\n",
            "Do you have a nickname?! [y/n] 🙃\n",
            "n\n",
            "I will call you babe😜\n"
          ]
        }
      ],
      "source": [
        "#1 Name and Nickname conversation:-\n",
        "\n",
        "print(\"Hello insan, what's your name?!🤔\")\n",
        "name = input()\n",
        "print('Do you have a nickname?! [y/n] 🙃')\n",
        "ans = input()\n",
        "if 'y' in ans.lower():\n",
        "  print(\"What's your nickname?!😍\")\n",
        "  nickname = input()\n",
        "  print('Good to meet you ' + nickname + '😁')\n",
        "else:\n",
        "  name_list = ['killua', 'don', 'naruto', 'idiot', 'xoxo', 'kimchi', 'fatty-mcFat', 'mother-coconuts', 'phineas',\n",
        "               'dumb', 'cutie', 'gwen', 'prarthana', 'meow', 'tuple', 'silly goose', 'babe', 'rose', 'tupperware', 'dude']\n",
        "  nickname = random.choice(name_list)\n",
        "  print('I will call you '+nickname + '😜')"
      ]
    },
    {
      "cell_type": "code",
      "execution_count": 8,
      "metadata": {
        "colab": {
          "base_uri": "https://localhost:8080/"
        },
        "id": "LvlHZkFppTkh",
        "outputId": "143e32a1-cd4a-4ce9-a46e-d1428bccfe9f"
      },
      "outputs": [
        {
          "output_type": "stream",
          "name": "stdout",
          "text": [
            "What's up babe?\n",
            "i am good what about you\n",
            "Glad you are doing well!😊\n"
          ]
        }
      ],
      "source": [
        "#2 greeting selection\n",
        "greetings = [\n",
        "    'How are you today ' + nickname + '?',\n",
        "    'Howdy ' + nickname + \" friend, how you feelin' today?\",\n",
        "    \"What's up \" + nickname + '?',\n",
        "    'Greetings ' + nickname + ' are you well?',\n",
        "    'How are things going ' + nickname + '?'\n",
        "]\n",
        "print(random.choice(greetings))\n",
        "ans = input()\n",
        "blob = TextBlob(ans)\n",
        "\n",
        "if blob.polarity > 0:\n",
        "  print('Glad you are doing well!😊')\n",
        "else:\n",
        "  print('Sorry to hear that! 😔')\n"
      ]
    },
    {
      "cell_type": "code",
      "execution_count": 9,
      "metadata": {
        "colab": {
          "base_uri": "https://localhost:8080/"
        },
        "id": "pP50Zqvtpt9w",
        "outputId": "25e83b63-d04a-4242-c61f-e62be7ae9a14"
      },
      "outputs": [
        {
          "output_type": "stream",
          "name": "stdout",
          "text": [
            "What is your take on DC?\n",
            "very very awesome\n",
            "OMG, you really love DC\n",
            "and you are so biased!\n",
            "What do u think about Python?\n",
            "fucked up\n",
            "Uff, you totally hate Python\n",
            "and you are so biased!\n",
            "I would like your opinion on Marvel?\n",
            "okayish\n",
            "That is a very neutral view on Marvel\n",
            "and you are quite objective, huh!\n"
          ]
        }
      ],
      "source": [
        "#3 several random opinions\n",
        "\n",
        "topics = [\n",
        "    'football',\n",
        "    'coding',\n",
        "    'Marvel',\n",
        "    'DC',\n",
        "    'Python',\n",
        "    'Computer Games',\n",
        "    'pubg',\n",
        "    'COD'\n",
        "]\n",
        "\n",
        "questions = [\n",
        "    'What is your take on ',\n",
        "    'What do u think about ',\n",
        "    'How do u feel about ',\n",
        "    'What do u reckon about ',\n",
        "    'I would like your opinion on '\n",
        "]\n",
        "for i in range(0, random.randint(3, 4)):\n",
        "  question = random.choice(questions)\n",
        "  questions.remove(question)\n",
        "  topic = random.choice(topics)\n",
        "  topics.remove(topic)\n",
        "  print(question + topic+'?')\n",
        "  ans = input()\n",
        "  blob = TextBlob(ans)\n",
        "\n",
        "  if blob.polarity > 0.5:\n",
        "    print(\"OMG, you really love \"+topic)\n",
        "  elif blob.polarity > 0.5:\n",
        "    print(\"Well, you clearly like \"+topic)\n",
        "  elif blob.polarity < -0.5:\n",
        "    print(\"Uff, you totally hate \"+topic)\n",
        "  elif blob.polarity < -0.1:\n",
        "    print(\"So you don't like \"+topic)\n",
        "  else:\n",
        "    print('That is a very neutral view on '+topic)\n",
        "\n",
        "  if blob.subjectivity > 0.6:\n",
        "    print('and you are so biased!')\n",
        "  elif blob.subjectivity > 0.3:\n",
        "    print('and you are bit biased!')\n",
        "  else:\n",
        "    print('and you are quite objective, huh!')"
      ]
    },
    {
      "cell_type": "code",
      "execution_count": 16,
      "metadata": {
        "id": "ldYSgT7cpxL-",
        "colab": {
          "base_uri": "https://localhost:8080/"
        },
        "outputId": "5cdb1bd0-ea0d-4aa1-b665-37171cc0989e"
      },
      "outputs": [
        {
          "output_type": "stream",
          "name": "stdout",
          "text": [
            "It was good talking to u babeI gotta go now!\n"
          ]
        }
      ],
      "source": [
        "#4 random goodbye\n",
        "\n",
        "goodbyes = [\n",
        "    'It was good talking to u ' +  nickname +  'I gotta go now!',\n",
        "    \"OK I'm bored\"  +  nickname + \"I go watch NetFlix\",\n",
        "    \"Bye Bye\" + nickname + \"I'm out!\",\n",
        "    \"Catch ya later \" + nickname\n",
        "]\n",
        "\n",
        "print(random.choice(goodbyes))"
      ]
    }
  ],
  "metadata": {
    "colab": {
      "provenance": [],
      "authorship_tag": "ABX9TyNaevFss2JISG0aymQn/guc",
      "include_colab_link": true
    },
    "kernelspec": {
      "display_name": "Python 3",
      "name": "python3"
    },
    "language_info": {
      "name": "python"
    }
  },
  "nbformat": 4,
  "nbformat_minor": 0
}
